{
 "cells": [
  {
   "cell_type": "markdown",
   "id": "3b52c140",
   "metadata": {},
   "source": [
    "## Análisis de componentes principales en Python"
   ]
  },
  {
   "cell_type": "markdown",
   "id": "d187ed67",
   "metadata": {},
   "source": [
    "#### 1. Carga de librerias y datos"
   ]
  },
  {
   "cell_type": "code",
   "execution_count": 20,
   "id": "f0dd44a8",
   "metadata": {},
   "outputs": [],
   "source": [
    "import pandas as pd\n",
    "import numpy as np\n",
    "from sklearn.preprocessing import StandardScaler\n",
    "from sklearn.decomposition import PCA\n",
    "import matplotlib.pyplot as plt\n",
    "from matplotlib import rcParams"
   ]
  },
  {
   "cell_type": "code",
   "execution_count": 2,
   "id": "54ce4cc6",
   "metadata": {},
   "outputs": [],
   "source": [
    "estudiantes=pd.read_csv('C:/Users/pc/Desktop/rociochavez/Rocio-Chavez-youtube-Files-master/Ejemplo Estudiantes.csv', index_col=0)"
   ]
  },
  {
   "cell_type": "code",
   "execution_count": 3,
   "id": "1464ab6f",
   "metadata": {},
   "outputs": [
    {
     "data": {
      "text/html": [
       "<div>\n",
       "<style scoped>\n",
       "    .dataframe tbody tr th:only-of-type {\n",
       "        vertical-align: middle;\n",
       "    }\n",
       "\n",
       "    .dataframe tbody tr th {\n",
       "        vertical-align: top;\n",
       "    }\n",
       "\n",
       "    .dataframe thead th {\n",
       "        text-align: right;\n",
       "    }\n",
       "</style>\n",
       "<table border=\"1\" class=\"dataframe\">\n",
       "  <thead>\n",
       "    <tr style=\"text-align: right;\">\n",
       "      <th></th>\n",
       "      <th>Matematicas</th>\n",
       "      <th>Ciencias</th>\n",
       "      <th>Espanol</th>\n",
       "      <th>Historia</th>\n",
       "      <th>Deportes</th>\n",
       "    </tr>\n",
       "    <tr>\n",
       "      <th>Estudiante</th>\n",
       "      <th></th>\n",
       "      <th></th>\n",
       "      <th></th>\n",
       "      <th></th>\n",
       "      <th></th>\n",
       "    </tr>\n",
       "  </thead>\n",
       "  <tbody>\n",
       "    <tr>\n",
       "      <th>Lucia</th>\n",
       "      <td>7.0</td>\n",
       "      <td>6.5</td>\n",
       "      <td>9.2</td>\n",
       "      <td>8.6</td>\n",
       "      <td>8.0</td>\n",
       "    </tr>\n",
       "    <tr>\n",
       "      <th>Pedro</th>\n",
       "      <td>7.5</td>\n",
       "      <td>9.4</td>\n",
       "      <td>7.3</td>\n",
       "      <td>7.0</td>\n",
       "      <td>7.0</td>\n",
       "    </tr>\n",
       "    <tr>\n",
       "      <th>Ines</th>\n",
       "      <td>7.6</td>\n",
       "      <td>9.2</td>\n",
       "      <td>8.0</td>\n",
       "      <td>8.0</td>\n",
       "      <td>7.5</td>\n",
       "    </tr>\n",
       "    <tr>\n",
       "      <th>Luis</th>\n",
       "      <td>5.0</td>\n",
       "      <td>6.5</td>\n",
       "      <td>6.5</td>\n",
       "      <td>7.0</td>\n",
       "      <td>9.0</td>\n",
       "    </tr>\n",
       "    <tr>\n",
       "      <th>Andres</th>\n",
       "      <td>6.0</td>\n",
       "      <td>6.0</td>\n",
       "      <td>7.8</td>\n",
       "      <td>8.9</td>\n",
       "      <td>7.3</td>\n",
       "    </tr>\n",
       "    <tr>\n",
       "      <th>Ana</th>\n",
       "      <td>7.8</td>\n",
       "      <td>9.6</td>\n",
       "      <td>7.7</td>\n",
       "      <td>8.0</td>\n",
       "      <td>6.5</td>\n",
       "    </tr>\n",
       "    <tr>\n",
       "      <th>Carlos</th>\n",
       "      <td>6.3</td>\n",
       "      <td>6.4</td>\n",
       "      <td>8.2</td>\n",
       "      <td>9.0</td>\n",
       "      <td>7.2</td>\n",
       "    </tr>\n",
       "    <tr>\n",
       "      <th>Jose</th>\n",
       "      <td>7.9</td>\n",
       "      <td>9.7</td>\n",
       "      <td>7.5</td>\n",
       "      <td>8.0</td>\n",
       "      <td>6.0</td>\n",
       "    </tr>\n",
       "    <tr>\n",
       "      <th>Sonia</th>\n",
       "      <td>6.0</td>\n",
       "      <td>6.0</td>\n",
       "      <td>6.5</td>\n",
       "      <td>5.5</td>\n",
       "      <td>8.7</td>\n",
       "    </tr>\n",
       "    <tr>\n",
       "      <th>Maria</th>\n",
       "      <td>6.8</td>\n",
       "      <td>7.2</td>\n",
       "      <td>8.7</td>\n",
       "      <td>9.0</td>\n",
       "      <td>7.0</td>\n",
       "    </tr>\n",
       "  </tbody>\n",
       "</table>\n",
       "</div>"
      ],
      "text/plain": [
       "            Matematicas  Ciencias  Espanol  Historia  Deportes\n",
       "Estudiante                                                    \n",
       "Lucia               7.0       6.5      9.2       8.6       8.0\n",
       "Pedro               7.5       9.4      7.3       7.0       7.0\n",
       "Ines                7.6       9.2      8.0       8.0       7.5\n",
       "Luis                5.0       6.5      6.5       7.0       9.0\n",
       "Andres              6.0       6.0      7.8       8.9       7.3\n",
       "Ana                 7.8       9.6      7.7       8.0       6.5\n",
       "Carlos              6.3       6.4      8.2       9.0       7.2\n",
       "Jose                7.9       9.7      7.5       8.0       6.0\n",
       "Sonia               6.0       6.0      6.5       5.5       8.7\n",
       "Maria               6.8       7.2      8.7       9.0       7.0"
      ]
     },
     "execution_count": 3,
     "metadata": {},
     "output_type": "execute_result"
    }
   ],
   "source": [
    "estudiantes"
   ]
  },
  {
   "cell_type": "markdown",
   "id": "46131837",
   "metadata": {},
   "source": [
    "#### 2. Estandarizamos los datos"
   ]
  },
  {
   "cell_type": "code",
   "execution_count": 6,
   "id": "bb743316",
   "metadata": {},
   "outputs": [
    {
     "data": {
      "text/plain": [
       "array([[ 0.23263076, -0.7529862 ,  1.78848525,  0.65792263,  0.65858084],\n",
       "       [ 0.78651352,  1.14584856, -0.53899555, -0.84590053, -0.47690337],\n",
       "       [ 0.89729007,  1.01489444,  0.31849737,  0.09398895,  0.09083874],\n",
       "       [-1.98290027, -0.7529862 , -1.51898747, -0.84590053,  1.79406505],\n",
       "       [-0.87513476, -1.0803715 ,  0.07349939,  0.93988948, -0.13625811],\n",
       "       [ 1.11884317,  1.27680268, -0.0489996 ,  0.09398895, -1.04464547],\n",
       "       [-0.5428051 , -0.81846326,  0.56349535,  1.03387842, -0.24980653],\n",
       "       [ 1.22961972,  1.34227974, -0.29399757,  0.09398895, -1.61238758],\n",
       "       [-0.87513476, -1.0803715 , -1.51898747, -2.25573474,  1.45341979],\n",
       "       [ 0.01107766, -0.29464677,  1.1759903 ,  1.03387842, -0.47690337]])"
      ]
     },
     "execution_count": 6,
     "metadata": {},
     "output_type": "execute_result"
    }
   ],
   "source": [
    "#Crear un objeto StandardScaler\n",
    "scaler =StandardScaler(with_mean=True, with_std=True)\n",
    "\n",
    "#Ajustar el scaler a los datos y transformar los datos estandarizados\n",
    "estudiantes_std=scaler.fit_transform(estudiantes)\n",
    "\n",
    "#Imprimir los datos estandarizados\n",
    "estudiantes_std"
   ]
  },
  {
   "cell_type": "markdown",
   "id": "c6b82d54",
   "metadata": {},
   "source": [
    "##### 2.1 Pedimos que muestre la media y la desviación estandar de datos"
   ]
  },
  {
   "cell_type": "code",
   "execution_count": 8,
   "id": "d05a0725",
   "metadata": {},
   "outputs": [
    {
     "data": {
      "text/plain": [
       "1.0"
      ]
     },
     "execution_count": 8,
     "metadata": {},
     "output_type": "execute_result"
    }
   ],
   "source": [
    "np.mean([estudiantes_std[:,0]])\n",
    "\n",
    "np.std(estudiantes_std[:,0])"
   ]
  },
  {
   "cell_type": "markdown",
   "id": "677f1501",
   "metadata": {},
   "source": [
    "#### 3. Llevamos a cabo el análisis de los componenetes principales"
   ]
  },
  {
   "cell_type": "code",
   "execution_count": 10,
   "id": "0584c9ba",
   "metadata": {},
   "outputs": [
    {
     "name": "stdout",
     "output_type": "stream",
     "text": [
      "[[-0.32306263  1.7725245 ]\n",
      " [-0.66544057 -1.63870215]\n",
      " [-1.00254705 -0.51569247]\n",
      " [ 3.17209481 -0.26278201]\n",
      " [ 0.48886797  1.3654021 ]\n",
      " [-1.70863322 -1.02170044]\n",
      " [-0.06758577  1.46233642]\n",
      " [-2.01185516 -1.27586457]\n",
      " [ 3.04203029 -1.25488069]\n",
      " [-0.92386867  1.3693593 ]]\n"
     ]
    }
   ],
   "source": [
    "#Creamos el modelo PCA indicandole que queremos solamente 2 componentes principales\n",
    "pca=PCA(n_components=2)\n",
    "\n",
    "#Obtendremos las componentes principales\n",
    "estudiantes_pca=pca.fit_transform(estudiantes_std)\n",
    "\n",
    "#Imprimir los datos transformados\n",
    "print(estudiantes_pca)"
   ]
  },
  {
   "cell_type": "markdown",
   "id": "1c66fa3d",
   "metadata": {},
   "source": [
    "##### 3.1. Varianza explicada por cada componente"
   ]
  },
  {
   "cell_type": "code",
   "execution_count": 12,
   "id": "4303574a",
   "metadata": {},
   "outputs": [
    {
     "data": {
      "text/plain": [
       "array([0.57864993, 0.32573008])"
      ]
     },
     "execution_count": 12,
     "metadata": {},
     "output_type": "execute_result"
    }
   ],
   "source": [
    "pca.explained_variance_ratio_"
   ]
  },
  {
   "cell_type": "code",
   "execution_count": 13,
   "id": "bfcadf2a",
   "metadata": {},
   "outputs": [
    {
     "data": {
      "text/plain": [
       "0.9043800196790526"
      ]
     },
     "execution_count": 13,
     "metadata": {},
     "output_type": "execute_result"
    }
   ],
   "source": [
    "np.sum(pca.explained_variance_ratio_)"
   ]
  },
  {
   "cell_type": "markdown",
   "id": "f0ca0f56",
   "metadata": {},
   "source": [
    "#### 4. Ubicamos los estudiantes en el plano bidimencional"
   ]
  },
  {
   "cell_type": "code",
   "execution_count": 26,
   "id": "d177c5ef",
   "metadata": {},
   "outputs": [
    {
     "data": {
      "image/png": "[encoded data removed]",
      "text/plain": [
       "<Figure size 500x500 with 1 Axes>"
      ]
     },
     "metadata": {},
     "output_type": "display_data"
    }
   ],
   "source": [
    "fig =plt.figure(figsize=(5,5))\n",
    "plt.rcParams['font.family']='sans-serif'\n",
    "\n",
    "x_label='Componente 1(' + str(round(pca.explained_variance_ratio_[0]*100,2))+'%)'\n",
    "y_label='Componente 2(' + str(round(pca.explained_variance_ratio_[1]*100,2))+'%)'\n",
    "\n",
    "nombres=estudiantes.index\n",
    "\n",
    "ax=fig.add_subplot(1,1,1)\n",
    "ax.set_xlabel(x_label, fontsize=10)\n",
    "ax.set_ylabel(y_label, fontsize=10)\n",
    "ax.set_title('Componentes Principales', fontsize=15)\n",
    "ax.set_xlim(-3,4)\n",
    "\n",
    "ax.scatter(x = estudiantes_pca[:,0], y = estudiantes_pca[:,1], s=20)\n",
    "\n",
    "for i, nombre in enumerate(nombres):\n",
    "    ax.annotate(nombre, (estudiantes_pca[i,0]-0.2, estudiantes_pca[i,1]+0.5), fontsize=8)\n",
    "\n",
    "plt.show()"
   ]
  },
  {
   "cell_type": "code",
   "execution_count": null,
   "id": "3a57a44b",
   "metadata": {},
   "outputs": [],
   "source": []
  }
 ],
 "metadata": {
  "kernelspec": {
   "display_name": "Python 3 (ipykernel)",
   "language": "python",
   "name": "python3"
  },
  "language_info": {
   "codemirror_mode": {
    "name": "ipython",
    "version": 3
   },
   "file_extension": ".py",
   "mimetype": "text/x-python",
   "name": "python",
   "nbconvert_exporter": "python",
   "pygments_lexer": "ipython3",
   "version": "3.9.16"
  }
 },
 "nbformat": 4,
 "nbformat_minor": 5
}
